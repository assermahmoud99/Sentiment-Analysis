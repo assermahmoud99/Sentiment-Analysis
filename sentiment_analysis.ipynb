{
  "nbformat": 4,
  "nbformat_minor": 0,
  "metadata": {
    "colab": {
      "provenance": [],
      "authorship_tag": "ABX9TyObPv0fkCUIh2f9gVp6Hd5d",
      "include_colab_link": true
    },
    "kernelspec": {
      "name": "python3",
      "display_name": "Python 3"
    },
    "language_info": {
      "name": "python"
    }
  },
  "cells": [
    {
      "cell_type": "markdown",
      "metadata": {
        "id": "view-in-github",
        "colab_type": "text"
      },
      "source": [
        "<a href=\"https://colab.research.google.com/github/assermahmoud99/Sentiment-Analysis/blob/main/sentiment_analysis.ipynb\" target=\"_parent\"><img src=\"https://colab.research.google.com/assets/colab-badge.svg\" alt=\"Open In Colab\"/></a>"
      ]
    },
    {
      "cell_type": "markdown",
      "source": [
        "# 1. Instantiating the setup\n",
        "\n",
        "In this section, All the required libraries got imported:\n",
        "\n",
        "*   pandas for data handling.\n",
        "\n",
        "*   scikit-learn for splitting data, vectorization, training Logistic Regression, and evaluation.\n",
        "\n",
        "*   spaCy for advanced text preprocessing (lemmatization, stopword removal).\n",
        "*   NLTK’s VADER sentiment analyzer for lexicon-based sentiment detection.\n",
        "\n",
        "\n",
        "*   Loaded the dataset\n",
        "*   Instantiated the sentiment analyser\n",
        "\n",
        "\n",
        "\n",
        "\n",
        "\n"
      ],
      "metadata": {
        "id": "VlEb8n8dqFxK"
      }
    },
    {
      "cell_type": "code",
      "execution_count": null,
      "metadata": {
        "colab": {
          "base_uri": "https://localhost:8080/"
        },
        "id": "_hzyX_KskaL5",
        "outputId": "1f2350d1-0b67-4a34-85a4-64c4504067ae"
      },
      "outputs": [
        {
          "output_type": "stream",
          "name": "stderr",
          "text": [
            "[nltk_data] Downloading package vader_lexicon to /root/nltk_data...\n",
            "[nltk_data]   Package vader_lexicon is already up-to-date!\n"
          ]
        },
        {
          "output_type": "stream",
          "name": "stdout",
          "text": [
            "sentiment\n",
            "1.0    1396\n",
            "0.0      68\n",
            "Name: count, dtype: int64\n",
            "vader_sentiment\n",
            "1    1384\n",
            "0      80\n",
            "Name: count, dtype: int64\n"
          ]
        }
      ],
      "source": [
        "import pandas as pd\n",
        "from sklearn.model_selection import train_test_split\n",
        "from sklearn.feature_extraction.text import TfidfVectorizer\n",
        "import spacy\n",
        "from sklearn.linear_model import LogisticRegression\n",
        "from sklearn.metrics import accuracy_score, classification_report, confusion_matrix\n",
        "import nltk\n",
        "from nltk.sentiment.vader import SentimentIntensityAnalyzer\n",
        "\n",
        "nltk.download(\"vader_lexicon\") #downloading sentiment analysis model\n",
        "df = pd.read_csv('amazon.csv') #extracting the data\n",
        "sia = SentimentIntensityAnalyzer()\n"
      ]
    },
    {
      "cell_type": "markdown",
      "source": [
        "# 2. Data sentiment\n",
        "\n",
        "Here I created two sentiment labels:\n",
        "\n",
        "\n",
        "\n",
        "1.   Rating-based (sentiment) → derived from star ratings (>3.5 = positive, <3.6 = negative).\n",
        "2.   VADER-based (vader_sentiment) → generated from the review text using VADER (compound ≥ 0 = positive, else negative).\n",
        "\n",
        "The main issue is that the dataset’s ratings are heavily skewed toward positive, making them unreliable for sentiment analysis. VADER helps by producing sentiment directly from the text, giving a more balanced variations within the data.\n",
        "\n",
        "\n"
      ],
      "metadata": {
        "id": "TOWq0yuhs1TW"
      }
    },
    {
      "cell_type": "markdown",
      "source": [],
      "metadata": {
        "id": "6lI_SiMqsn7n"
      }
    },
    {
      "cell_type": "code",
      "source": [
        "df[\"review_text\"] = df[\"review_title\"].fillna(\"\") + \" \" + df[\"review_content\"].fillna(\"\")\n",
        "def vader_sentiment(text):\n",
        "    score = sia.polarity_scores(str(text))[\"compound\"]\n",
        "    if score >= 0:\n",
        "        return 1\n",
        "    else:\n",
        "        return 0\n",
        "\n",
        "def sentiment_score(rating):\n",
        "  if rating > 3.5:\n",
        "    return 1\n",
        "  elif rating < 3.6 :\n",
        "    return 0\n",
        "  else :\n",
        "    return None\n",
        "df['rating'] = pd.to_numeric(df['rating'], errors='coerce')\n",
        "df[\"vader_sentiment\"] = df[\"review_content\"].apply(vader_sentiment)\n",
        "df['sentiment'] = df['rating'].apply(sentiment_score)\n",
        "df = df.dropna(subset=['sentiment'])\n",
        "df = df.dropna(subset=['vader_sentiment'])\n",
        "print(df['sentiment'].value_counts())\n",
        "print(df['vader_sentiment'].values)"
      ],
      "metadata": {
        "colab": {
          "base_uri": "https://localhost:8080/"
        },
        "id": "EbY2CdXEkGsY",
        "outputId": "b9d5b0c7-d8c0-4a28-8ae3-4905542a65b8"
      },
      "execution_count": null,
      "outputs": [
        {
          "output_type": "stream",
          "name": "stdout",
          "text": [
            "sentiment\n",
            "1    1396\n",
            "0      68\n",
            "Name: count, dtype: int64\n",
            "[1 1 1 ... 1 0 1]\n"
          ]
        }
      ]
    },
    {
      "cell_type": "markdown",
      "source": [
        "# 3. Text Cleaning with spaCy\n",
        "\n",
        "I clean the reviews using spaCy:\n",
        "\n",
        "*   Keep only alphabetic tokens.\n",
        "*   Remove stopwords (e.g., the, is).\n",
        "\n",
        "*   Lemmatize words (e.g., running → run).\n",
        "*   Convert to lowercase.\n",
        "\n",
        "\n",
        "\n",
        "This reduces noise and ensures the text is in a consistent form before vectorization."
      ],
      "metadata": {
        "id": "h5xo1Vve0nS6"
      }
    },
    {
      "cell_type": "markdown",
      "source": [],
      "metadata": {
        "id": "KKVgwOovxo8d"
      }
    },
    {
      "cell_type": "code",
      "source": [
        "\n",
        "nlp = spacy.load('en_core_web_sm')\n",
        "tokens = []\n",
        "def clean_text(review):\n",
        "  doc = nlp(review)\n",
        "  for token in doc:\n",
        "    if token.is_alpha and not token.is_stop:\n",
        "      tokens.append(token.lemma_.lower())\n",
        "  return \" \".join(tokens)\n",
        "df['review_text'] = df['review_text'].astype(str).apply(clean_text)\n",
        "df['review_text'].head(10)\n"
      ],
      "metadata": {
        "colab": {
          "base_uri": "https://localhost:8080/",
          "height": 397
        },
        "id": "O9z0VtU0mtX0",
        "outputId": "76fa367d-7ec6-403b-d0b7-a0662f7d8be3"
      },
      "execution_count": null,
      "outputs": [
        {
          "output_type": "execute_result",
          "data": {
            "text/plain": [
              "0    satisfy charging fast value money product revi...\n",
              "1    satisfy charging fast value money product revi...\n",
              "2    satisfy charging fast value money product revi...\n",
              "3    satisfy charging fast value money product revi...\n",
              "4    satisfy charging fast value money product revi...\n",
              "5    satisfy charging fast value money product revi...\n",
              "6    satisfy charging fast value money product revi...\n",
              "7    satisfy charging fast value money product revi...\n",
              "8    satisfy charging fast value money product revi...\n",
              "9    satisfy charging fast value money product revi...\n",
              "Name: review_text, dtype: object"
            ],
            "text/html": [
              "<div>\n",
              "<style scoped>\n",
              "    .dataframe tbody tr th:only-of-type {\n",
              "        vertical-align: middle;\n",
              "    }\n",
              "\n",
              "    .dataframe tbody tr th {\n",
              "        vertical-align: top;\n",
              "    }\n",
              "\n",
              "    .dataframe thead th {\n",
              "        text-align: right;\n",
              "    }\n",
              "</style>\n",
              "<table border=\"1\" class=\"dataframe\">\n",
              "  <thead>\n",
              "    <tr style=\"text-align: right;\">\n",
              "      <th></th>\n",
              "      <th>review_text</th>\n",
              "    </tr>\n",
              "  </thead>\n",
              "  <tbody>\n",
              "    <tr>\n",
              "      <th>0</th>\n",
              "      <td>satisfy charging fast value money product revi...</td>\n",
              "    </tr>\n",
              "    <tr>\n",
              "      <th>1</th>\n",
              "      <td>satisfy charging fast value money product revi...</td>\n",
              "    </tr>\n",
              "    <tr>\n",
              "      <th>2</th>\n",
              "      <td>satisfy charging fast value money product revi...</td>\n",
              "    </tr>\n",
              "    <tr>\n",
              "      <th>3</th>\n",
              "      <td>satisfy charging fast value money product revi...</td>\n",
              "    </tr>\n",
              "    <tr>\n",
              "      <th>4</th>\n",
              "      <td>satisfy charging fast value money product revi...</td>\n",
              "    </tr>\n",
              "    <tr>\n",
              "      <th>5</th>\n",
              "      <td>satisfy charging fast value money product revi...</td>\n",
              "    </tr>\n",
              "    <tr>\n",
              "      <th>6</th>\n",
              "      <td>satisfy charging fast value money product revi...</td>\n",
              "    </tr>\n",
              "    <tr>\n",
              "      <th>7</th>\n",
              "      <td>satisfy charging fast value money product revi...</td>\n",
              "    </tr>\n",
              "    <tr>\n",
              "      <th>8</th>\n",
              "      <td>satisfy charging fast value money product revi...</td>\n",
              "    </tr>\n",
              "    <tr>\n",
              "      <th>9</th>\n",
              "      <td>satisfy charging fast value money product revi...</td>\n",
              "    </tr>\n",
              "  </tbody>\n",
              "</table>\n",
              "</div><br><label><b>dtype:</b> object</label>"
            ]
          },
          "metadata": {},
          "execution_count": 30
        }
      ]
    },
    {
      "cell_type": "markdown",
      "source": [
        "# 4. Logistic Regression with Rating Labels\n",
        "This trains a Logistic Regression classifier using rating-based sentiment labels as the target.\n",
        "\n",
        "Reviews are converted into numerical features with TF-IDF.\n",
        "\n",
        "The model is trained and evaluated with accuracy, confusion matrix, precision, recall, and F1.\n",
        "\n",
        "Because the dataset is heavily skewed toward positive ratings, results reflect the imbalance problem."
      ],
      "metadata": {
        "id": "Yg-feLLs3Yzf"
      }
    },
    {
      "cell_type": "markdown",
      "source": [],
      "metadata": {
        "id": "YgkGI_tE07qZ"
      }
    },
    {
      "cell_type": "code",
      "source": [
        "X = df['review_text']\n",
        "y = df['sentiment']\n",
        "X_train , X_test , y_train , y_test = train_test_split(X, y, test_size=0.2, random_state=42, stratify=y)\n",
        "vecotrizer = TfidfVectorizer(stop_words='english')\n",
        "X_train_vec = vecotrizer.fit_transform(X_train)\n",
        "X_test_vec = vecotrizer.transform(X_test)\n",
        "lr = LogisticRegression()\n",
        "lr.fit(X_train_vec, y_train)\n",
        "y_pred = lr.predict(X_test_vec)\n",
        "print(lr.coef_)\n",
        "print(confusion_matrix(y_test, y_pred))\n",
        "print(accuracy_score(y_test, y_pred))\n",
        "print(classification_report(y_test, y_pred))"
      ],
      "metadata": {
        "colab": {
          "base_uri": "https://localhost:8080/"
        },
        "id": "ymHjfGb6xBaZ",
        "outputId": "34b289b7-70ba-4a97-8e2d-c5bc092e8880"
      },
      "execution_count": null,
      "outputs": [
        {
          "output_type": "stream",
          "name": "stdout",
          "text": [
            "[[-8.67293263e-04 -9.44070610e-05  1.17836855e-04 ... -1.09186630e-04\n",
            "  -1.09186630e-04 -1.09186630e-04]]\n",
            "[[  0  14]\n",
            " [  0 279]]\n",
            "0.9522184300341296\n",
            "              precision    recall  f1-score   support\n",
            "\n",
            "           0       0.00      0.00      0.00        14\n",
            "           1       0.95      1.00      0.98       279\n",
            "\n",
            "    accuracy                           0.95       293\n",
            "   macro avg       0.48      0.50      0.49       293\n",
            "weighted avg       0.91      0.95      0.93       293\n",
            "\n"
          ]
        },
        {
          "output_type": "stream",
          "name": "stderr",
          "text": [
            "/usr/local/lib/python3.12/dist-packages/sklearn/metrics/_classification.py:1565: UndefinedMetricWarning: Precision is ill-defined and being set to 0.0 in labels with no predicted samples. Use `zero_division` parameter to control this behavior.\n",
            "  _warn_prf(average, modifier, f\"{metric.capitalize()} is\", len(result))\n",
            "/usr/local/lib/python3.12/dist-packages/sklearn/metrics/_classification.py:1565: UndefinedMetricWarning: Precision is ill-defined and being set to 0.0 in labels with no predicted samples. Use `zero_division` parameter to control this behavior.\n",
            "  _warn_prf(average, modifier, f\"{metric.capitalize()} is\", len(result))\n",
            "/usr/local/lib/python3.12/dist-packages/sklearn/metrics/_classification.py:1565: UndefinedMetricWarning: Precision is ill-defined and being set to 0.0 in labels with no predicted samples. Use `zero_division` parameter to control this behavior.\n",
            "  _warn_prf(average, modifier, f\"{metric.capitalize()} is\", len(result))\n"
          ]
        }
      ]
    },
    {
      "cell_type": "markdown",
      "source": [
        "# 5. Logistic Regression with VADER Labels\n",
        "This repeats the same pipeline, but with VADER-based sentiment labels as the target.\n",
        "\n",
        "Again, reviews are vectorized with TF-IDF.\n",
        "\n",
        "Logistic Regression is trained and evaluated in the same way.\n",
        "\n",
        "This provides a fairer baseline because VADER assigns sentiment directly from text, helping reduce the effect of biased ratings."
      ],
      "metadata": {
        "id": "q0611JyS3jsE"
      }
    },
    {
      "cell_type": "code",
      "source": [
        "y_vader = df['vader_sentiment']\n",
        "X_train_vader , X_test_vader , y_train_vader , y_test_vader = train_test_split(X, y_vader, test_size=0.2, random_state=42, stratify=y)\n",
        "vecotrizer_vader = TfidfVectorizer(stop_words='english')\n",
        "X_train_vec_vader = vecotrizer_vader.fit_transform(X_train_vader)\n",
        "X_test_vec_vader = vecotrizer_vader.transform(X_test_vader)\n",
        "lr_vader = LogisticRegression()\n",
        "lr_vader.fit(X_train_vec_vader, y_train_vader)\n",
        "y_pred_vader = lr_vader.predict(X_test_vec_vader)\n",
        "print(lr_vader.coef_)\n",
        "print(confusion_matrix(y_test_vader, y_pred_vader))\n",
        "print(accuracy_score(y_test_vader, y_pred_vader))\n",
        "print(classification_report(y_test_vader, y_pred_vader))"
      ],
      "metadata": {
        "colab": {
          "base_uri": "https://localhost:8080/"
        },
        "id": "5BxUkbZQZsak",
        "outputId": "e81421e9-eb4f-4fbf-9825-e6d13f211b2c"
      },
      "execution_count": null,
      "outputs": [
        {
          "output_type": "stream",
          "name": "stdout",
          "text": [
            "[[-0.00016087 -0.00151091 -0.00107242 ...  0.00024599  0.00024599\n",
            "   0.00024599]]\n",
            "[[  0  17]\n",
            " [  0 276]]\n",
            "0.9419795221843004\n",
            "              precision    recall  f1-score   support\n",
            "\n",
            "           0       0.00      0.00      0.00        17\n",
            "           1       0.94      1.00      0.97       276\n",
            "\n",
            "    accuracy                           0.94       293\n",
            "   macro avg       0.47      0.50      0.49       293\n",
            "weighted avg       0.89      0.94      0.91       293\n",
            "\n"
          ]
        },
        {
          "output_type": "stream",
          "name": "stderr",
          "text": [
            "/usr/local/lib/python3.12/dist-packages/sklearn/metrics/_classification.py:1565: UndefinedMetricWarning: Precision is ill-defined and being set to 0.0 in labels with no predicted samples. Use `zero_division` parameter to control this behavior.\n",
            "  _warn_prf(average, modifier, f\"{metric.capitalize()} is\", len(result))\n",
            "/usr/local/lib/python3.12/dist-packages/sklearn/metrics/_classification.py:1565: UndefinedMetricWarning: Precision is ill-defined and being set to 0.0 in labels with no predicted samples. Use `zero_division` parameter to control this behavior.\n",
            "  _warn_prf(average, modifier, f\"{metric.capitalize()} is\", len(result))\n",
            "/usr/local/lib/python3.12/dist-packages/sklearn/metrics/_classification.py:1565: UndefinedMetricWarning: Precision is ill-defined and being set to 0.0 in labels with no predicted samples. Use `zero_division` parameter to control this behavior.\n",
            "  _warn_prf(average, modifier, f\"{metric.capitalize()} is\", len(result))\n"
          ]
        }
      ]
    },
    {
      "cell_type": "markdown",
      "source": [
        "# 6. MultinomialNB training\n",
        "Here I train a Multinomial Naive Bayes classifier using the rating-based labels.\n",
        "\n",
        "It works well for text data represented as word counts or TF-IDF.\n",
        "\n",
        "Results will be compared with Logistic Regression."
      ],
      "metadata": {
        "id": "J1P7x8leP_ZQ"
      }
    },
    {
      "cell_type": "code",
      "source": [
        "from sklearn.naive_bayes import MultinomialNB\n",
        "\n",
        "# Train Naive Bayes with rating-based labels\n",
        "model_nb = MultinomialNB()\n",
        "model_nb.fit(X_train_vec, y_train)\n",
        "y_pred_nb = model_nb.predict(X_test_vec)\n",
        "vader_nb = MultinomialNB()\n",
        "vader_nb.fit(X_train_vec_vader, y_train)\n",
        "y_pred_vader = vader_nb.predict(X_test_vec_vader)\n",
        "\n",
        "print(\"Naive Bayes Confusion Matrix (Ratings):\")\n",
        "print(confusion_matrix(y_test, y_pred_nb))\n",
        "print(\"Naive Bayes Accuracy:\", accuracy_score(y_test, y_pred_nb))\n",
        "print(classification_report(y_test, y_pred_nb))\n",
        "\n",
        "print(\"Vader Naive Bayes Confusion Matrix (Ratings):\")\n",
        "print(confusion_matrix(y_test_vader, y_pred_vader))\n",
        "print(\"Vader Naive Bayes Accuracy:\", accuracy_score(y_test_vader, y_pred_vader))\n",
        "print(classification_report(y_test_vader, y_pred_vader))\n"
      ],
      "metadata": {
        "colab": {
          "base_uri": "https://localhost:8080/"
        },
        "id": "UeWpzvgv4A0s",
        "outputId": "d5efbff2-ca52-4d3e-eb1d-e0b0181ec69c"
      },
      "execution_count": null,
      "outputs": [
        {
          "output_type": "stream",
          "name": "stdout",
          "text": [
            "Naive Bayes Confusion Matrix (Ratings):\n",
            "[[  0  14]\n",
            " [  0 279]]\n",
            "Naive Bayes Accuracy: 0.9522184300341296\n",
            "              precision    recall  f1-score   support\n",
            "\n",
            "           0       0.00      0.00      0.00        14\n",
            "           1       0.95      1.00      0.98       279\n",
            "\n",
            "    accuracy                           0.95       293\n",
            "   macro avg       0.48      0.50      0.49       293\n",
            "weighted avg       0.91      0.95      0.93       293\n",
            "\n",
            "Vader Naive Bayes Confusion Matrix (Ratings):\n",
            "[[  0  17]\n",
            " [  0 276]]\n",
            "Vader Naive Bayes Accuracy: 0.9419795221843004\n",
            "              precision    recall  f1-score   support\n",
            "\n",
            "           0       0.00      0.00      0.00        17\n",
            "           1       0.94      1.00      0.97       276\n",
            "\n",
            "    accuracy                           0.94       293\n",
            "   macro avg       0.47      0.50      0.49       293\n",
            "weighted avg       0.89      0.94      0.91       293\n",
            "\n"
          ]
        },
        {
          "output_type": "stream",
          "name": "stderr",
          "text": [
            "/usr/local/lib/python3.12/dist-packages/sklearn/metrics/_classification.py:1565: UndefinedMetricWarning: Precision is ill-defined and being set to 0.0 in labels with no predicted samples. Use `zero_division` parameter to control this behavior.\n",
            "  _warn_prf(average, modifier, f\"{metric.capitalize()} is\", len(result))\n",
            "/usr/local/lib/python3.12/dist-packages/sklearn/metrics/_classification.py:1565: UndefinedMetricWarning: Precision is ill-defined and being set to 0.0 in labels with no predicted samples. Use `zero_division` parameter to control this behavior.\n",
            "  _warn_prf(average, modifier, f\"{metric.capitalize()} is\", len(result))\n",
            "/usr/local/lib/python3.12/dist-packages/sklearn/metrics/_classification.py:1565: UndefinedMetricWarning: Precision is ill-defined and being set to 0.0 in labels with no predicted samples. Use `zero_division` parameter to control this behavior.\n",
            "  _warn_prf(average, modifier, f\"{metric.capitalize()} is\", len(result))\n",
            "/usr/local/lib/python3.12/dist-packages/sklearn/metrics/_classification.py:1565: UndefinedMetricWarning: Precision is ill-defined and being set to 0.0 in labels with no predicted samples. Use `zero_division` parameter to control this behavior.\n",
            "  _warn_prf(average, modifier, f\"{metric.capitalize()} is\", len(result))\n",
            "/usr/local/lib/python3.12/dist-packages/sklearn/metrics/_classification.py:1565: UndefinedMetricWarning: Precision is ill-defined and being set to 0.0 in labels with no predicted samples. Use `zero_division` parameter to control this behavior.\n",
            "  _warn_prf(average, modifier, f\"{metric.capitalize()} is\", len(result))\n",
            "/usr/local/lib/python3.12/dist-packages/sklearn/metrics/_classification.py:1565: UndefinedMetricWarning: Precision is ill-defined and being set to 0.0 in labels with no predicted samples. Use `zero_division` parameter to control this behavior.\n",
            "  _warn_prf(average, modifier, f\"{metric.capitalize()} is\", len(result))\n"
          ]
        }
      ]
    },
    {
      "cell_type": "markdown",
      "source": [
        "# 7. Extract Most Positive & Most Negative Words\n",
        "\n",
        "Here we extract the top positive and negative words learned by Logistic Regression:\n",
        "\n",
        "\n",
        "*  Words with large positive coefficients strongly indicate positive sentiment.\n",
        "\n",
        "*  Words with large negative coefficients strongly indicate negative sentiment.\n",
        "\n",
        "\n",
        "\n",
        "*   This shows not just the model’s accuracy, but also how it interprets the language in reviews.\n",
        "\n",
        "\n",
        "\n",
        "\n",
        "\n",
        "\n"
      ],
      "metadata": {
        "id": "2foBbAEcQU-Z"
      }
    },
    {
      "cell_type": "code",
      "source": [
        "import numpy as np\n",
        "import matplotlib.pyplot as plt\n",
        "\n",
        "feature_names = vecotrizer.get_feature_names_out()\n",
        "coeffs = lr.coef_[0]\n",
        "\n",
        "# Top positive and negative words\n",
        "top_pos_idx = np.argsort(coeffs)[-10:]\n",
        "top_neg_idx = np.argsort(coeffs)[:10]\n",
        "\n",
        "print(\"Top Positive Words:\")\n",
        "for i in top_pos_idx:\n",
        "    print(feature_names[i], coeffs[i])\n",
        "\n",
        "print(\"\\nTop Negative Words:\")\n",
        "for i in top_neg_idx:\n",
        "    print(feature_names[i], coeffs[i])\n",
        "\n",
        "# Bar plots\n",
        "plt.barh([feature_names[i] for i in top_pos_idx], coeffs[top_pos_idx])\n",
        "plt.title(\"Top Positive Words\")\n",
        "plt.show()\n",
        "\n",
        "plt.barh([feature_names[i] for i in top_neg_idx], coeffs[top_neg_idx])\n",
        "plt.title(\"Top Negative Words\")\n",
        "plt.show()\n"
      ],
      "metadata": {
        "colab": {
          "base_uri": "https://localhost:8080/",
          "height": 1000
        },
        "id": "ZlrfnbmmPsYx",
        "outputId": "a8c67224-e995-42e8-bfb7-273bab076921"
      },
      "execution_count": null,
      "outputs": [
        {
          "output_type": "stream",
          "name": "stdout",
          "text": [
            "Top Positive Words:\n",
            "fast 0.0822451854425759\n",
            "usb 0.08459171555453983\n",
            "battery 0.08556596787336641\n",
            "connect 0.08882709950007736\n",
            "charging 0.09566529756810056\n",
            "watch 0.1174867734409808\n",
            "quality 0.13276422917770775\n",
            "charge 0.15638196236846472\n",
            "phone 0.1767330480123038\n",
            "cable 0.336535034224564\n",
            "\n",
            "Top Negative Words:\n",
            "product -0.37390226816936756\n",
            "use -0.2585590138325236\n",
            "easy -0.20338568858774123\n",
            "water -0.15840885969100144\n",
            "heater -0.14015067511870005\n",
            "iron -0.1147908703234389\n",
            "coffee -0.11169665875160202\n",
            "filter -0.09433647638948325\n",
            "steam -0.09187470920798903\n",
            "clean -0.08603996774159732\n"
          ]
        },
        {
          "output_type": "display_data",
          "data": {
            "text/plain": [
              "<Figure size 640x480 with 1 Axes>"
            ],
            "image/png": "[encoded data removed]"
          },
          "metadata": {}
        },
        {
          "output_type": "display_data",
          "data": {
            "text/plain": [
              "<Figure size 640x480 with 1 Axes>"
            ],
            "image/png": "[encoded data removed]"
          },
          "metadata": {}
        }
      ]
    }
  ]
}